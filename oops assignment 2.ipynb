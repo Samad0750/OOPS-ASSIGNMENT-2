{
 "cells": [
  {
   "cell_type": "markdown",
   "id": "a4366790-3adb-4641-b20b-9e36948a47b9",
   "metadata": {},
   "source": [
    "QUESTION 1\n",
    "\n",
    "\n",
    "ABSTRACTION IS USED TO MAKE A STRUCTURE OR BLUEPRTINT OF CODES.\n",
    " "
   ]
  },
  {
   "cell_type": "code",
   "execution_count": 12,
   "id": "e8c9125e-d93e-43c1-b12c-4840f1018bed",
   "metadata": {},
   "outputs": [],
   "source": [
    "import abc\n",
    "class sales():\n",
    "    \n",
    "    @abc.abstractmethod\n",
    "    def sales_costumes(self):\n",
    "        pass\n",
    "    \n",
    "    @abc.abstractmethod\n",
    "    def sales_electronics(self):\n",
    "        pass\n",
    "    \n",
    "    @abc.abstractmethod\n",
    "    def sales_cartons(self):\n",
    "        pass"
   ]
  },
  {
   "cell_type": "code",
   "execution_count": 13,
   "id": "9dd514df-3e35-4920-ab50-5f9d3fa0ae3a",
   "metadata": {},
   "outputs": [],
   "source": [
    "class distributor(sales):\n",
    "    def sales_costumes(self):\n",
    "        print(\"abc is the distributor of costumes\")\n",
    "        \n",
    "    def sales_electronics(self):\n",
    "        print(\"xyz is the distributor of electronics\")"
   ]
  },
  {
   "cell_type": "code",
   "execution_count": 14,
   "id": "7123e4a4-f070-4e5d-b6ce-423c996c08c9",
   "metadata": {},
   "outputs": [],
   "source": [
    "dis_obj=distributor()"
   ]
  },
  {
   "cell_type": "code",
   "execution_count": 15,
   "id": "ca9f582d-10bb-46f5-bca3-2fd3ce81afeb",
   "metadata": {},
   "outputs": [
    {
     "name": "stdout",
     "output_type": "stream",
     "text": [
      "abc is the distributor of costumes\n"
     ]
    }
   ],
   "source": [
    "dis_obj.sales_costumes()"
   ]
  },
  {
   "cell_type": "code",
   "execution_count": 16,
   "id": "54c62f34-4b02-49d0-b3d2-03c7cd5348c3",
   "metadata": {},
   "outputs": [
    {
     "name": "stdout",
     "output_type": "stream",
     "text": [
      "xyz is the distributor of electronics\n"
     ]
    }
   ],
   "source": [
    "dis_obj.sales_electronics()"
   ]
  },
  {
   "cell_type": "markdown",
   "id": "0f1135d9-44a1-45a5-ae27-400330e3c133",
   "metadata": {},
   "source": [
    "QUESTION 2\n",
    "\n",
    "ABSTRACTION HIDES THE DATA UNWANTED DATA AND GIVES THE RELEVANT DATA.\n",
    "\n",
    "ABSTRACTION MAKES THE PROGRAMMING EASY.\n",
    "\n",
    "ABSTRACTION FOCUS ON WHAT THE OBJECT DOES NOT ON HOW IT DOES.\n",
    "\n",
    "IT IS USED IN DESIGNING THE  CODE.\n",
    "\n",
    "\n",
    "\n",
    "\n",
    "\n",
    "\n",
    "\n",
    "ENCAPSULATION BINDS THE CODE AND DATA AND KEEPS SAFE FROM MANIPULATE FROM OUTSIDERS.\n",
    "\n",
    "IN SIMPLE WORDS ENCAPSULATION MEANS HIDING DATA FROM FURTHER GETTERS AND SETTERS.\n",
    "\n",
    "IT ALLOWS DEVELOPERS TO MAKE A MORE AND SECURE CODE.\n",
    "\n",
    "IT IS USED IN IMPLEMENTATION OF THE CODE.\n"
   ]
  },
  {
   "cell_type": "markdown",
   "id": "34ae6e34-0255-4aa7-be20-88c37af33e10",
   "metadata": {},
   "source": [
    "QUESTION 3\n",
    "\n",
    "abc stands for abstract base classes.\n",
    "\n",
    "abc module privides infrastructure for abstract base classes. "
   ]
  },
  {
   "cell_type": "markdown",
   "id": "65a9bb59-7128-43cb-b1e3-b8d7d6480477",
   "metadata": {},
   "source": [
    "QUESTION 4\n",
    "\n",
    "1.import abc\n",
    "\n",
    "2.design the structure/blueprint for the codes.\n",
    "\n",
    "3.use @abc.abstractmethod before the def.\n",
    "\n",
    "4.make inheritance class of the given class.\n",
    "\n",
    "5.create object for the inheritance class.\n",
    "\n",
    "6.call inherited class by the object ."
   ]
  },
  {
   "cell_type": "code",
   "execution_count": null,
   "id": "7b9515c4-f783-4b91-a341-d86489f78bb5",
   "metadata": {},
   "outputs": [],
   "source": []
  }
 ],
 "metadata": {
  "kernelspec": {
   "display_name": "Python 3 (ipykernel)",
   "language": "python",
   "name": "python3"
  },
  "language_info": {
   "codemirror_mode": {
    "name": "ipython",
    "version": 3
   },
   "file_extension": ".py",
   "mimetype": "text/x-python",
   "name": "python",
   "nbconvert_exporter": "python",
   "pygments_lexer": "ipython3",
   "version": "3.10.8"
  }
 },
 "nbformat": 4,
 "nbformat_minor": 5
}
